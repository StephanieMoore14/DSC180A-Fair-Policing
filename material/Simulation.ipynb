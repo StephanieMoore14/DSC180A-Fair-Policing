{
 "cells": [
  {
   "cell_type": "code",
   "execution_count": null,
   "metadata": {},
   "outputs": [],
   "source": [
    "%matplotlib inline\n",
    "\n",
    "import pandas as pd\n",
    "import random\n",
    "import numpy as np\n",
    "from scipy import stats\n",
    "\n",
    "import statsmodels.api as sm\n",
    "import matplotlib.pyplot as plt"
   ]
  },
  {
   "cell_type": "markdown",
   "metadata": {},
   "source": [
    "## Does observing race cause police to pull over more minority drivers?\n",
    "\n",
    "### Potential Outcomes\n",
    "\n",
    "* The variable $Y_i$ denotes whether driver $i$ was pulled over, \n",
    "* The variable $M_i$ specifies whether driver $i$  was a minority driver (1).\n",
    "* The variable $Y_{1i}$ specifies what the outcome would have been had the officer observed that driver $i$ was a minority driver.\n",
    "* The variable $Y_{0i}$ specifies what the outcome would have been had the officer observed that driver $i$ was not a minority driver.\n",
    "\n",
    "The notation below summarizes the potential outcomes for driver $i$:\n",
    "\n",
    "$$\\begin{equation}\n",
    "Y_i=\\begin{cases}\n",
    "Y_{1i} \\quad if\\quad  M_i=1\\\\\n",
    "Y_{0i} \\quad if\\quad M_i=0\n",
    "\\end{cases}\n",
    "\\end{equation}\n",
    "$$\n",
    "\n",
    "### Observed Difference in Stop Rate\n",
    "\n",
    "The observed difference in stop rate is the difference between the proportion of minority drivers pulled over and the proportion of non-minority drivers pulled over (left-hand side). Using the identities of conditional probability, this quantity decomposes into two terms:\n",
    "\n",
    "$$ \\begin{eqnarray} E[Y_i|M_i=1]-E[Y_i|M_i=0]=&E[Y_{1i}|M_i=1]-E[Y_{0i}|M_i=1] \\\\ &+E[Y_{0i}|M_i=1]-E[Y_{0i}|M_i=0] \\end{eqnarray} $$\n",
    "\n",
    "The two terms have the following interpretations:\n",
    "\n",
    "$$ E[Y_{0i}|M_i=1]-E[Y_{0i}|M_i=0] \\quad \\mbox{(selection bias)}$$ \n",
    "\n",
    "$$ E[Y_{1i}|M_i=1]-E[Y_{0i}|M_i=1] \\quad \\mbox{(effect of race on likelihood of stop)}$$ "
   ]
  },
  {
   "cell_type": "markdown",
   "metadata": {},
   "source": [
    "### Probability of Stop\n",
    "\n",
    "We would like to estimate the effect of observed race on the likelihood of a traffic stop. \n",
    "\n",
    "The Null Hypothesis states that observed race has no effect on the likelihood of a stop:\n",
    "\n",
    "$$H_0: E[Y_{1i}|M_i=1]-E[Y_{0i}|M_i=1]=0$$\n",
    "\n",
    "While the Alternative Hypothesis states otherwise:\n",
    "\n",
    "$$H_1: E[Y_{1i}|M_i=1]-E[Y_{0i}|M_i=1]\\neq 0$$"
   ]
  },
  {
   "cell_type": "markdown",
   "metadata": {},
   "source": [
    "## Simulations\n",
    "\n",
    "We are going to test this hypothesis when we know the data generating process exactly (i.e. by generating the data).\n",
    "\n",
    "### Simulation 1: Assign probability of stop from same distribution\n",
    "\n",
    "$$  Y_i=f(M_i,\\varepsilon_i) $$\n",
    "$$ \\mathbf{\\varepsilon} \\sim N(\\mathbf{0},\\mathbf{1}) $$\n"
   ]
  },
  {
   "cell_type": "code",
   "execution_count": null,
   "metadata": {},
   "outputs": [],
   "source": [
    "NUM_DRIVERS = 100000\n",
    "PCT_MINORITY = 0.1\n",
    "STOP_THRESH =  -2\n",
    "\n",
    "n_minority = int(NUM_DRIVERS * PCT_MINORITY)\n",
    "n_notminor = int(NUM_DRIVERS * (1 - PCT_MINORITY))\n",
    "\n",
    "# Generate data\n",
    "M = np.array([0] * n_notminor + [1] * n_minority) # generate minority variable\n",
    "N = np.random.normal(0, 1, size=NUM_DRIVERS) # generate error terms\n",
    "df = pd.DataFrame({'Minority': M, 'StopLikelihood': N})\n",
    "\n",
    "df['Stop'] = (df['StopLikelihood'] < STOP_THRESH).astype(int) # a stop occurs...\n",
    "df.head()"
   ]
  },
  {
   "cell_type": "markdown",
   "metadata": {},
   "source": [
    "Stop rates by minority vs not minority:"
   ]
  },
  {
   "cell_type": "code",
   "execution_count": null,
   "metadata": {},
   "outputs": [],
   "source": [
    "df.pivot_table(values='Stop', index='Minority', aggfunc='mean')"
   ]
  },
  {
   "cell_type": "markdown",
   "metadata": {},
   "source": [
    "Testing the average difference in stop rates between the two groups:"
   ]
  },
  {
   "cell_type": "code",
   "execution_count": null,
   "metadata": {},
   "outputs": [],
   "source": [
    "minority = df.loc[df.Minority == 1, 'Stop']\n",
    "not_minority = df.loc[df.Minority == 0, 'Stop']\n",
    "\n",
    "stats.ttest_ind(minority, not_minority)"
   ]
  },
  {
   "cell_type": "markdown",
   "metadata": {},
   "source": [
    "### Simulation 2: Assign higher probability of stop to minority group "
   ]
  },
  {
   "cell_type": "code",
   "execution_count": null,
   "metadata": {},
   "outputs": [],
   "source": [
    "NUM_DRIVERS = 100000\n",
    "PCT_MINORITY = 0.1\n",
    "VAR_NOTMINOR = 1.0\n",
    "VAR_MINORITY = 1.2\n",
    "STOP_THRESH =  -2\n",
    "\n",
    "n_minority = int(NUM_DRIVERS * PCT_MINORITY)\n",
    "n_notminor = int(NUM_DRIVERS * (1 - PCT_MINORITY))\n",
    "\n",
    "# Generate data\n",
    "M = np.array([0] * n_notminor + [1] * n_minority) # generate minority variable\n",
    "\n",
    "# generate error terms: for minority, variance is higher mean is the same.\n",
    "N_MINORITY = np.random.normal(0, VAR_MINORITY, size=int(NUM_DRIVERS * PCT_MINORITY))\n",
    "N_NOTMINOR = np.random.normal(0, VAR_NOTMINOR, size=int(NUM_DRIVERS * (1 - PCT_MINORITY)))\n",
    "N = np.append(N_NOTMINOR, N_MINORITY)\n",
    "\n",
    "df = pd.DataFrame({'Minority': M, 'StopLikelihood': N})\n",
    "\n",
    "df['Stop'] = (df['StopLikelihood'] < STOP_THRESH).astype(int) # a stop occurs...\n",
    "df.head()"
   ]
  },
  {
   "cell_type": "code",
   "execution_count": null,
   "metadata": {},
   "outputs": [],
   "source": [
    "df.pivot_table(values='Stop', index='Minority', aggfunc='mean')"
   ]
  },
  {
   "cell_type": "markdown",
   "metadata": {},
   "source": [
    "Testing the average difference in stop rates between the two groups:"
   ]
  },
  {
   "cell_type": "code",
   "execution_count": null,
   "metadata": {},
   "outputs": [],
   "source": [
    "stats.ttest_ind(df[df.Minority==1]['Stop'],df[df.Minority==0]['Stop'])"
   ]
  },
  {
   "cell_type": "markdown",
   "metadata": {},
   "source": [
    "## Bias\n",
    "\n",
    "### Simulation 3: Adding the neighborhood of stop"
   ]
  },
  {
   "cell_type": "markdown",
   "metadata": {},
   "source": [
    "* Probability of Stop: Neighborhood predicts likelihood of stop\n",
    "* Racial distribution by neighborhood unequal\n",
    "        "
   ]
  },
  {
   "cell_type": "markdown",
   "metadata": {},
   "source": [
    "$$  Y_i=f(M_i, N_i, \\varepsilon_i) $$\n",
    "$$ \\varepsilon \\sim N(\\mathbf{0},\\mathbf{1}) $$\n",
    "\n",
    "#### What happens if we test the same null hypothesis the same way?"
   ]
  },
  {
   "cell_type": "code",
   "execution_count": null,
   "metadata": {},
   "outputs": [],
   "source": [
    "# Generate data per neighborhood\n",
    "\n",
    "STOP_THRESH1 = -2\n",
    "STOP_THRESH2 = -0.5\n",
    "\n",
    "# Neighborhood 1: 10% minority; 100,000 people.\n",
    "\n",
    "M1 = np.array([1] * 10000 + [0] * 90000) # generate minority variable\n",
    "N1 = np.random.normal(0, 1, size=100000) # generate error terms\n",
    "df1 = pd.DataFrame({'Minority': M1, 'StopLikelihood': N1, 'Neighborhood': 1})\n",
    "\n",
    "df1['Stop'] = (df1['StopLikelihood'] < STOP_THRESH1).astype(int) # a stop occurs...\n",
    "\n",
    "# Neighborhood 2: 50% minority; 100,000 people.\n",
    "\n",
    "M2 = np.array([0] * 50000 + [1] * 50000) # generate minority variable\n",
    "N2 = np.random.normal(0, 1, size=100000) # generate error terms\n",
    "df2 = pd.DataFrame({'Minority': M2, 'StopLikelihood': N2, 'Neighborhood': 2})\n",
    "\n",
    "df2['Stop'] = (df2['StopLikelihood'] < STOP_THRESH2).astype(int) # a stop occurs...\n",
    "\n",
    "df = pd.concat([df1, df2])"
   ]
  },
  {
   "cell_type": "code",
   "execution_count": null,
   "metadata": {},
   "outputs": [],
   "source": [
    "df.pivot_table(values='Stop',index=['Neighborhood','Minority'], aggfunc=np.mean)"
   ]
  },
  {
   "cell_type": "markdown",
   "metadata": {},
   "source": [
    "T-test in neighborhood 1"
   ]
  },
  {
   "cell_type": "code",
   "execution_count": null,
   "metadata": {},
   "outputs": [],
   "source": [
    "## Ttest Neighborhood 1\n",
    "\n",
    "stats.ttest_ind(\n",
    "    df.loc[(df.Minority==1) & (df.Neighborhood==1), 'Stop'],\n",
    "    df.loc[(df.Minority==0) & (df.Neighborhood==1), 'Stop']\n",
    ")"
   ]
  },
  {
   "cell_type": "markdown",
   "metadata": {},
   "source": [
    "T-test in neighborhood 2"
   ]
  },
  {
   "cell_type": "code",
   "execution_count": null,
   "metadata": {},
   "outputs": [],
   "source": [
    "## Ttest Neighborhood 2\n",
    "\n",
    "stats.ttest_ind(\n",
    "    df.loc[(df.Minority==1) & (df.Neighborhood==2), 'Stop'],\n",
    "    df.loc[(df.Minority==0) & (df.Neighborhood==2), 'Stop']\n",
    ")"
   ]
  },
  {
   "cell_type": "markdown",
   "metadata": {},
   "source": [
    "#### Testing results  when combining neighborhoods"
   ]
  },
  {
   "cell_type": "code",
   "execution_count": null,
   "metadata": {},
   "outputs": [],
   "source": [
    "pd.pivot_table(df, values='Stop',index=['Minority'], aggfunc=np.mean)"
   ]
  },
  {
   "cell_type": "code",
   "execution_count": null,
   "metadata": {},
   "outputs": [],
   "source": [
    "stats.ttest_ind(\n",
    "    df.loc[(df.Minority==1), 'Stop'],\n",
    "    df.loc[(df.Minority==0), 'Stop']\n",
    ")"
   ]
  },
  {
   "cell_type": "markdown",
   "metadata": {},
   "source": [
    "### Probability of Stop: adding age of driver\n",
    "\n",
    "* Likelihood of stop increases as driver age increases.\n",
    "* Racial distribution by age of driver is unequal."
   ]
  },
  {
   "cell_type": "code",
   "execution_count": null,
   "metadata": {},
   "outputs": [],
   "source": [
    "# function to generate ages\n",
    "def randomskew(skewness, maxVal, N):\n",
    "    maxVal = maxVal - 16\n",
    "    random = stats.skewnorm.rvs(a=skewness,loc=maxVal, size=N)\n",
    "    random = random - min(random)      # Shift the set so the minimum value is equal to zero.\n",
    "    random = random / max(random)      # Standadize all the values between 0 and 1. \n",
    "    random = random * maxVal + 16\n",
    "    return random"
   ]
  },
  {
   "cell_type": "code",
   "execution_count": null,
   "metadata": {},
   "outputs": [],
   "source": [
    "M1 = np.array([1] * 10000 + [0] * 90000) # generate minority variable\n",
    "N1 = np.random.normal(0, 1, size=100000) # generate error terms\n",
    "df1 = pd.DataFrame({'Minority': M1, 'StopLikelihood': N1, 'Neighborhood': 1})\n",
    "\n",
    "df1['Stop'] = (df1['StopLikelihood'] < STOP_THRESH1).astype(int) # a stop occurs...\n"
   ]
  },
  {
   "cell_type": "code",
   "execution_count": null,
   "metadata": {},
   "outputs": [],
   "source": [
    "M1 = np.array([1] * 10000 + [0] * 90000)\n",
    "a = np.append(randomskew(0, 80, 10000), randomskew(4, 80, 90000))\n",
    "lr = np.random.normal(-0.1, 1, 100000)\n",
    "df = pd.DataFrame({'Minority': M1, 'StopLikelihood': lr, 'Age': a})\n",
    "df['Stop'] =  ((df['StopLikelihood'] + df['Age'] * -0.01) < -2).astype('int')"
   ]
  },
  {
   "cell_type": "code",
   "execution_count": null,
   "metadata": {},
   "outputs": [],
   "source": [
    "df.pivot_table(values='Stop',index=['Minority'], aggfunc=np.mean)"
   ]
  },
  {
   "cell_type": "code",
   "execution_count": null,
   "metadata": {},
   "outputs": [],
   "source": [
    "minority = df.loc[df.Minority == 1, 'Stop']\n",
    "non_minority = df.loc[df.Minority==0, 'Stop']\n",
    "stats.ttest_ind(minority, non_minority)"
   ]
  },
  {
   "cell_type": "code",
   "execution_count": null,
   "metadata": {},
   "outputs": [],
   "source": [
    "X = np.array(df[['Minority','Age']])\n",
    "y = np.array(df.Stop)\n",
    "X = sm.add_constant(X)\n",
    "ols = sm.OLS(y, X)\n",
    "ols_result = ols.fit()\n",
    "ols_result.params"
   ]
  },
  {
   "cell_type": "code",
   "execution_count": null,
   "metadata": {},
   "outputs": [],
   "source": [
    "print(ols_result.summary())"
   ]
  },
  {
   "cell_type": "code",
   "execution_count": null,
   "metadata": {},
   "outputs": [],
   "source": [
    "df.groupby('Minority').Age.plot(kind='hist', legend=True);"
   ]
  },
  {
   "cell_type": "code",
   "execution_count": null,
   "metadata": {},
   "outputs": [],
   "source": []
  }
 ],
 "metadata": {
  "kernelspec": {
   "display_name": "Python 3",
   "language": "python",
   "name": "python3"
  },
  "language_info": {
   "codemirror_mode": {
    "name": "ipython",
    "version": 3
   },
   "file_extension": ".py",
   "mimetype": "text/x-python",
   "name": "python",
   "nbconvert_exporter": "python",
   "pygments_lexer": "ipython3",
   "version": "3.7.1"
  }
 },
 "nbformat": 4,
 "nbformat_minor": 2
}
